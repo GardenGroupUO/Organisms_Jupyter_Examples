{
 "cells": [
  {
   "cell_type": "markdown",
   "id": "classical-collective",
   "metadata": {},
   "source": [
    "# A Basic Example for Optimising a 38 atom Lennard-Jones Nanocluster with Organisms"
   ]
  },
  {
   "cell_type": "markdown",
   "id": "emerging-liberia",
   "metadata": {},
   "source": [
    "[Back To Table of Contents](../Organisms_Jupyter_Example.ipynb)"
   ]
  },
  {
   "cell_type": "markdown",
   "id": "valued-culture",
   "metadata": {},
   "source": [
    "In this example, we will perform a genetic algorithm optimisation on the 38 atom Lennard-Jones (LJ<sub>38</sub>) nanocluster. In this example, we will perform a genetic algorithm with a simple energy predation operator, the energy fitness operator, and a population-based epoch method. We will go through step by step all the components of the *Run.py* files required to run Organisms on LJ<sub>38</sub>. See [organisms.readthedocs.io/en/latest/Using_Run](https://organisms.readthedocs.io/en/latest/Using_Run.html) for more information on the *Run.py* file.\n",
    "\n",
    "To run this notebook step by step, press the $\\blacktriangleright$ button sequentially on the python code you want to run. You can find the $\\blacktriangleright$ button in the menu bar above. Make sure you have run $\\blacktriangleright$ on every cell before running the final cell. Equivalently, press the $\\blacktriangleright\\blacktriangleright$ button to completely run this *Run.py* file beginning to end. You can also find the $\\blacktriangleright\\blacktriangleright$ button in the menu bar above. \n",
    "\n",
    "Note: These are the vanilla settings for running Organisms on a LJ<sub>38</sub> nanocluster, but feel free to change the settings as you wish.\n",
    "\n",
    "Also note: This program makes files which are created and stored on the Binder server. If you want to rerun this example, you will need to remove these files. The following block code will do this. This is only needed for this notebook and is not apart of *Run.py* script."
   ]
  },
  {
   "cell_type": "code",
   "execution_count": 1,
   "id": "solar-sequence",
   "metadata": {},
   "outputs": [],
   "source": [
    "import os\n",
    "from shutil import rmtree\n",
    "to_be_removed_before_restarting_Jupyter_example = ['__pycache__','Population','epoch_data','epoch_data.backup','GA_Run_Details.txt','ga_running.lock','Recorded_Data','Initial_Population','Saved_Points_In_GA_Run']\n",
    "for example_file_or_folder in to_be_removed_before_restarting_Jupyter_example:\n",
    "    if os.path.exists(example_file_or_folder):\n",
    "        if os.path.isdir(example_file_or_folder):\n",
    "            rmtree(example_file_or_folder)\n",
    "        else:\n",
    "            os.remove(example_file_or_folder)"
   ]
  },
  {
   "cell_type": "markdown",
   "id": "tribal-monte",
   "metadata": {},
   "source": [
    "The *Run.py* code begins below:"
   ]
  },
  {
   "cell_type": "markdown",
   "id": "aware-detroit",
   "metadata": {},
   "source": [
    "## Importing Organisms into script\n",
    "\n",
    "To begin, we need to import the Organisms program into this *Run.py* script. Specifically, we want to import the ``GA_Program`` into this *Run.py* script. We do this below:"
   ]
  },
  {
   "cell_type": "code",
   "execution_count": 2,
   "id": "hollywood-admission",
   "metadata": {},
   "outputs": [],
   "source": [
    "from Organisms import GA_Program"
   ]
  },
  {
   "cell_type": "markdown",
   "id": "laughing-image",
   "metadata": {},
   "source": [
    "## The elemental makeup of the cluster\n",
    "\n",
    "The first part of Run.py specifies the type of cluster you will be testing. Here, the makeup of the cluster is described using a dictionary in the format, {element: number of that element in the cluster, …}. An example of this is shown below:"
   ]
  },
  {
   "cell_type": "code",
   "execution_count": 3,
   "id": "spread-drain",
   "metadata": {},
   "outputs": [],
   "source": [
    "# This details the elemental and number of atom composition of cluster that the user would like to investigate\n",
    "cluster_makeup = {'Ne': 38}"
   ]
  },
  {
   "cell_type": "markdown",
   "id": "different-lodge",
   "metadata": {},
   "source": [
    "Note that here the element has been called ``'Ne'``. ``'Ne'`` here is being used as a Lennard-Jones atom. The *RunMinimisation_LJ.py* that is used here has been written to note that Ne atoms should be treated as Lennard-Jones atoms. See the example of *RunMinimisation_LJ.py* in the Github directory here ([github.com/GardenGroupUO/Organisms_Jupyter_Examples/tree/main/Example_Files/LJ38_Basic](https://github.com/GardenGroupUO/Organisms_Jupyter_Examples/tree/main/Example_Files/LJ38_Basic)) to see how the *RunMinimisation_LJ.py* has been written to account for this."
   ]
  },
  {
   "cell_type": "markdown",
   "id": "surface-reform",
   "metadata": {},
   "source": [
    "## Details if the cluster lies on a surface\n",
    "\n",
    "This feature allows the user to include a surface to place a cluster upon. This feature is still being developed and does not currently work."
   ]
  },
  {
   "cell_type": "code",
   "execution_count": 4,
   "id": "academic-majority",
   "metadata": {},
   "outputs": [],
   "source": [
    "# Surface details\n",
    "surface_details = None"
   ]
  },
  {
   "cell_type": "markdown",
   "id": "excellent-detection",
   "metadata": {},
   "source": [
    "## The main details of the genetic algorithm\n",
    "\n",
    "Here, the components of the genetic algorithm are described below:\n",
    "* **pop_size** (*int*): The number of clusters in the population.\n",
    "* **generations** (*int*): The number of generations that will be carried out by the genetic algorithm.\n",
    "* **no_offspring_per_generation** (*int*): The number of offspring generated per generation.\n",
    "\n",
    "It is recommended that for a particular test case that one try a few variations for pop_size and no_offspring_per_generation. From the literature, an pop_size = 30 or 40 and no_offspring_per_generation set to ``0.8*pop_size`` is common.\n",
    "\n",
    "An example of these parameters in Run.py is given below:"
   ]
  },
  {
   "cell_type": "code",
   "execution_count": 5,
   "id": "extraordinary-record",
   "metadata": {},
   "outputs": [],
   "source": [
    "# These are the main variables of the genetic algorithm that with changes could affect the results of the Genetic Algorithm.\n",
    "pop_size = 20\n",
    "generations = 4000\n",
    "no_offspring_per_generation = 16"
   ]
  },
  {
   "cell_type": "markdown",
   "id": "joint-gravity",
   "metadata": {},
   "source": [
    "## Details concerning the Mating and Mutation Proceedure\n",
    "\n",
    "The following set of parameters are focused on settings that involve the Mating and Mutation Procedures of the genetic algorithm. These are processes that affect how new offspring are created during the genetic algorithm. There are four sets of parameters involving the Mating and Mutation Procedures. Firstly, below is a parameter that affects both the Mating and Mutation Procedures:\n",
    "* **creating_offspring_mode** (*str.*): This indicates how you want these procedures to work when making an offspring. There are two options: ``\"Either_Mating_and_Mutation\"`` or ``\"Both_Mating_and_Mutation\"``\n",
    "* **crossover_type** (*str.*): The mating method will use the spatial information of two parent clusters to create a new cluster from the two of them. This variable determines which mating proceedure the genetic algorithm will perform. The options for this parameter are: ``\"CAS_weighted\"``, ``\"CAS_half\"``, ``\"CAS_random\"`` and ``\"CAS_custom_XX\"``\n",
    "* **mutation_types** (*[[str.,float],…]*): The mutation method will change the structure of a cluster to give a new cluster as a result. The type of mutation method the user would like to use. This can one of the following:``\"random\"``, ``\"random_XX\"``, ``\"move\"``, ``\"move_XX\"``, or ``\"homotop\"``. It is possible for more than one mutation method to be used. \n",
    "* **chance_of_mutation** (*float*): The chance that a mutation will occur. How the genetic algorithm uses this variable depends on the input for creating_offspring_mode. \n",
    "\n",
    "See [Details concerning the mating and mutation proceedure](https://organisms.readthedocs.io/en/latest/Using_Run.html#details-concerning-the-mating-and-mutation-proceedure) for more information about these options. An example of these parameters used in the Run.py file is given below:"
   ]
  },
  {
   "cell_type": "code",
   "execution_count": 6,
   "id": "changing-thread",
   "metadata": {},
   "outputs": [],
   "source": [
    "# These setting indicate how offspring should be made using the Mating and Mutation Proceedures\n",
    "creating_offspring_mode = \"Either_Mating_and_Mutation\"\n",
    "crossover_type = \"CAS_random\"\n",
    "mutation_types = [['move', 1]]\n",
    "chance_of_mutation = 0.1"
   ]
  },
  {
   "cell_type": "markdown",
   "id": "rural-logistics",
   "metadata": {},
   "source": [
    "## Epoch Settings\n",
    "\n",
    "It is possible to include a epoch in this version of the genetic algorithm. An epoch is a feature that allows the population to be reset with new, randomly generated clusters. See [Using Epoch Methods](https://organisms.readthedocs.io/en/latest/Using_Epoch_Methods.html#using-epoch-methods) for more information on epoch methods, including the various types of epoches and settings.\n",
    "\n",
    "An example of the epoch parameters used in the Run.py file is given below:"
   ]
  },
  {
   "cell_type": "code",
   "execution_count": 7,
   "id": "numerous-small",
   "metadata": {},
   "outputs": [],
   "source": [
    "# This parameter will tell the GGA if an epoch is desired, and how the user would like to proceed.\n",
    "epoch_settings = {'epoch mode': 'same population', 'max repeat': 5}"
   ]
  },
  {
   "cell_type": "markdown",
   "id": "received-passport",
   "metadata": {},
   "source": [
    "## Other Details\n",
    "\n",
    "There are three other variables which are important to include in your Run.py file. These are:\n",
    "* **r_ij** (*float*): This is the maximum bond distance that we would expect in this cluster. This parameter is used when clusters are created using either or both the mating or mutation schemes. This parameter is used to determine if a cluster has stayed in one piece after the local minimisation, as it is possible for the cluster to break into multiple pieces. This should be a reasonable distance, but not excessively large. For example, for Au, which has a FCC lattice constant of 4.078 Å. Therefore it has a first nearest neighbour of 2.884 Å and a second nearest neighbour of 4.078 Å. Therefore r_ij should be set to some value between 2.884 Å and 4.078 Å. For example, r_ij = 3.5 Å or r_ij = 4.0 Å would probably be appropriate, however I have been able to get away with r_ij = 3.0 Å.\n",
    "* **cell_length** (*float*): If you are wanting to create randomly generated clusters, either at the start of the genetic algorithm or using the ‘random’ mutation method, then you will want to specify the length of the box that you want to add atoms to. boxtoplaceinlength is the length of this box. Don’t make this too big, or else it is likely atoms will be too far apart and a cluster will be broken into multiple pieces.\n",
    "* **vacuum_to_add_length** (*float*): The length of vacuum added around the cluster. Written in Å.\n",
    "\n",
    "An example of these parameters used in the Run.py file is given below:"
   ]
  },
  {
   "cell_type": "code",
   "execution_count": 8,
   "id": "virtual-august",
   "metadata": {},
   "outputs": [],
   "source": [
    "# These are variables used by the algorithm to make and place clusters in.\n",
    "r_ij = 1.5\n",
    "cell_length = 4.1\n",
    "vacuum_to_add_length = 10.0"
   ]
  },
  {
   "cell_type": "markdown",
   "id": "dedicated-consolidation",
   "metadata": {},
   "source": [
    "## Minimisation Scheme\n",
    "\n",
    "This component of *Run.py* focuses on the function/method that the genetic algorithm uses for performing local minimisations. This is used by the genetic algorithm as a def type (i.e. as a function). This means that, rather than a variable being passed into the algorithm, a function is passed into the algorithm.\n",
    "\n",
    "One can write this function into the *Run.py* file, however it is usually easier and nicer to view this function in a different python file. I typically call this something like *RunMinimisation.py*, and the function in this file is called ``Minimisation_Function``. ``Minimisation_Function`` will contain the algorithm for performing a local optimisation.\n",
    "\n",
    "Because of the flexibility, it is possible to use any type of calculator from ASE, ASAP, GWAP, LAMMPS, etc. It is even possible for the user to design this to use with non-python user-interface based local optimisers, such as VASP or Quantum Espresso!\n",
    "\n",
    "To see an example of how to write ``Minimisation_Function``, see [Writing a Local Minimisation Function for the Genetic Algorithm](https://organisms.readthedocs.io/en/latest/Local_Minimisation_Function.html#local-minimisation-function).\n",
    "\n",
    "The algorithm is imported into Run.py as follows. This script is importng ``Minimisation_Function`` from *RunMinimisation_LJ.py* which is in the same folder as this Jupyter notebook. You can find other examples of *RunMinimisation.py*, including this version of *RunMinimisation_LJ.py*, in [github.com/GardenGroupUO/Organisms/tree/main/Examples/Set_of_RunMinimisation_Files](https://github.com/GardenGroupUO/Organisms/tree/main/Examples/Set_of_RunMinimisation_Files)"
   ]
  },
  {
   "cell_type": "code",
   "execution_count": 9,
   "id": "typical-baseball",
   "metadata": {},
   "outputs": [],
   "source": [
    "# The RunMinimisation.py algorithm is one set by the user. It contain the def Minimisation_Function\n",
    "# That is used for local optimisations. This can be written in whatever way the user wants to perform\n",
    "# the local optimisations. This is meant to be as free as possible.\n",
    "from RunMinimisation_LJ import Minimisation_Function"
   ]
  },
  {
   "cell_type": "markdown",
   "id": "subtle-cycle",
   "metadata": {},
   "source": [
    "## The Memory Operator\n",
    "\n",
    "This operator is designed to prevent clusters from being in the population that resemble any cluster in this memory operator in some way. This operator uses the SCM to determine how structurally similar cluster are. See [Using the Memory Operator](https://organisms.readthedocs.io/en/latest/Using_the_Memory_Operator.html#using-the-memory-operator) for more information on how to use the memory operator. An example of how the memory operator is written in the Run.py file is shown below."
   ]
  },
  {
   "cell_type": "code",
   "execution_count": 10,
   "id": "liked-album",
   "metadata": {},
   "outputs": [],
   "source": [
    "# This dictionary includes the information required to prevent clusters being placed in the population if they are too similar to clusters in this memory_operator\n",
    "memory_operator_information = {'Method': 'Off'}"
   ]
  },
  {
   "cell_type": "markdown",
   "id": "handy-isolation",
   "metadata": {},
   "source": [
    "## Predation Operators\n",
    "\n",
    "This component of Run.py specifies all the information concerning the predation operator. You can see more about how the predation operators works at Using Predation Operators with the Genetic Algorithm. There are a variety of predation operators that are inbuilt currently into the genetic algorithm. You can find out more about what they do, and how to use them in your Run.py file, at [Using Predation Operators with the Genetic Algorithm](https://organisms.readthedocs.io/en/latest/Using_Predation_Operators_with_the_Genetic_Algorithm.html#using-predation-operators). Here, we will use a energy predation operator: "
   ]
  },
  {
   "cell_type": "code",
   "execution_count": 11,
   "id": "statutory-validation",
   "metadata": {},
   "outputs": [],
   "source": [
    "# This dictionary includes the information required by the predation scheme.\n",
    "predation_information = {'Predation Operator': 'Energy', 'mode': 'comprehensive', 'type_of_comprehensive_scheme': 'energy', 'minimum_energy_diff': 0.01}"
   ]
  },
  {
   "cell_type": "markdown",
   "id": "stainless-penalty",
   "metadata": {},
   "source": [
    "## Fitness Operators\n",
    "\n",
    "This component of Run.py specified all the information required by the fitness operators. You can find more information about how the fitness operators works at Using Fitness Operators with the Genetic Algorithm. There are a variety of fitness scheme available to be used in this implementation of the genetic algorithm. You can find all the information about all the available fitness schemes in [Using Fitness Operators with the Genetic Algorithm](https://organisms.readthedocs.io/en/latest/Using_Fitness_Operators_with_the_Genetic_Algorithm.html#using-fitness-operators). Here, we will use the energy fitness operator: "
   ]
  },
  {
   "cell_type": "code",
   "execution_count": 12,
   "id": "congressional-germany",
   "metadata": {},
   "outputs": [],
   "source": [
    "# This dictionary includes the information required by the fitness scheme\n",
    "fitness_information = {'Fitness Operator': 'Energy', 'fitness_function': {'function': 'exponential', 'alpha': 3.0}}"
   ]
  },
  {
   "cell_type": "markdown",
   "id": "baking-business",
   "metadata": {},
   "source": [
    "## Recording Clusters from the Genetic Algorithm\n",
    "\n",
    "This input in the Run.py file indicates how the user would like to record clusters that are created during the genetic algorithm. The information is contained in the dictionary called ``ga_recording_information``. More information on how to record clusters made during the genetic algorithm can be found at [Recording Clusters From The Genetic Algorithm](https://organisms.readthedocs.io/en/latest/Recording_Clusters_From_The_Genetic_Algorithm.html#recording-clusters-from-the-genetic-algorithm). We will record only the lowest enregy cluster that was obtained from the global optimisation in this example: "
   ]
  },
  {
   "cell_type": "code",
   "execution_count": 13,
   "id": "superb-duncan",
   "metadata": {},
   "outputs": [],
   "source": [
    "# Variables required for the Recording_Cluster.py class/For recording the history as required of the genetic algorithm.\n",
    "ga_recording_information = {'ga_recording_scheme': 'Limit_energy_height', 'limit_number_of_clusters_recorded': 1, 'limit_energy_height_of_clusters_recorded': 1.0, 'exclude_recording_cluster_screened_by_diversity_scheme': False}"
   ]
  },
  {
   "cell_type": "markdown",
   "id": "breathing-chuck",
   "metadata": {},
   "source": [
    "## Other details of the Genetic algorithm\n",
    "\n",
    "These last set of parameters are important, but there is no good appropriate place to put them in the Run.py file. These last parameters are:\n",
    "* **force_replace_pop_clusters_with_offspring** (*bool*): In the genetic algorithm, the predation operator may find that the an offspring is “identical” to a cluster in the population, but that offspring is more fit than the cluster in the population. In this case, the genetic algorithm can replace the less fit cluster in the population with the “identical” more fit offspring. Set this variable to ``True`` if you want this to happen. Set this variable to ``False`` if you don’t want this to happen. Default: ``True``.\n",
    "* **user_initilised_population_folder** (*str.*): This is the name, or the path to, the folder holding the initalised population that you would like to use instead of the program creating a set of randomly generated clusters. If you do not have, or do not want to use, an initialised population, set this to ``None`` or ``''``.\n",
    "* **rounding_criteria** (*int*): This is the round that will be enforced on the value of the cluster energy. Default: ``2``\n",
    "* **print_details** (*bool*): Will print the details of the genetic algotithm, like a verbose.\n",
    "* **no_of_cpus** (*int*): This is the number of cpus that you would like the algorithm to run on. These extra cores will be used to create the offspring as well as used by the predation and fitness operators if beneficial to use extra cores for the chosen operators.\n",
    "* **finish_algorithm_if_found_cluster_energy** (*dict.*): This parameter will stop the algorithm if the desired global minimum is found. This parameter is to be used if the user would like to test the performance of the algorithm and knows beforehand what the energy of the global minimum is. This parameter is set as a dictionary as two parameters. ‘cluster energy’ is a float that states the energy of the global minimum. ‘round’ is an interger that you want to set to the same rounding that you gave for the ‘cluster energy’ input. This will round the energy of clusters made, and compare this energy to your ‘cluster energy’ input. An example of this for Au38 using Cleri Gupta parameters are ``finish_algorithm_if_found_cluster_energy = {'cluster energy': -130.54, 'round': 2}``. If you are not testing the performance of the algorithm, or dont know the global minimum of the cluster you are testing, set ``finish_algorithm_if_found_cluster_energy = None``. Default: ``None``\n",
    "* **total_length_of_running_time** (*int*): This is the maximum amount of time (in hours) that the algorithm is allow to run for. This variable is useful if you are running on a remote computer system like slurm that finishes once a certain time limit is reached. To prevent the algorithm from being incorrectly cancelled when running, set this value to a time limit less than your maximum time limit on slurm. I have been setting this to the slurm job time minus 2 hours. For example, if the genetic algorithm is submitted to slurm for 72 hours, set ``total_length_of_running_time=70.0``. While this algorithm is designed to be able to be restarted even if the program is cancelled during a generation, it is best to prevent any issues from occurring by using this variable to cancel the algorithm safety so that there are absolutely no issues when restarting the genetic algorithm. Is ``None`` is given, no time limit will be set. Default: ``None``\n",
    "\n",
    "An example of how they are written in the Run.py file are show below:"
   ]
  },
  {
   "cell_type": "code",
   "execution_count": 14,
   "id": "coral-custom",
   "metadata": {},
   "outputs": [],
   "source": [
    "# These are last techinical points that the algorithm is designed in mind\n",
    "force_replace_pop_clusters_with_offspring = True\n",
    "user_initialised_population_folder = None\n",
    "rounding_criteria = 10\n",
    "print_details = True\n",
    "no_of_cpus = 1\n",
    "finish_algorithm_if_found_cluster_energy = {'cluster energy': -173.93, 'round': 2}\n",
    "total_length_of_running_time = None"
   ]
  },
  {
   "cell_type": "markdown",
   "id": "downtown-reading",
   "metadata": {},
   "source": [
    "[Back To Table of Contents](../Organisms_Jupyter_Example.ipynb)"
   ]
  },
  {
   "cell_type": "markdown",
   "id": "simplified-strengthening",
   "metadata": {},
   "source": [
    "## The Genetic Algorithm!\n",
    "\n",
    "You have got to the end of all the parameter setting stuff! Now on to the fun stuff! The next part of the Run.py file tells the genetic algorithm to run. This is written as follows in the Run.py:"
   ]
  },
  {
   "cell_type": "code",
   "execution_count": 15,
   "id": "functioning-twins",
   "metadata": {},
   "outputs": [
    {
     "name": "stdout",
     "output_type": "stream",
     "text": [
      "############################################################\n",
      "############################################################\n",
      "############################################################\n",
      "The Garden Group Genetic Algorithm for Clusters\n",
      "\n",
      ".--------------------------------------------------------------------------.\n",
      "|                             ,                                            |\n",
      "|              ,_     ,     .'<_                                           |\n",
      "|             _> `'-,'(__.-' __<                                           |\n",
      "|             >_.--(.. )  =;`                                   _          |\n",
      "|                  `V-'`'\\/``                                  ('>         |\n",
      "|                                                              /))@@@@@.   |\n",
      "|         .----------------------------------.                /@\"@@@@@()@  |\n",
      "|         | Welcome to the Organisms program |               .@@()@@()@@@@ |\n",
      "|         '----------------------------------'               @@@O@@@@()@@@ |\n",
      "|                  ^                                         @()@@\\@@@()@@ |\n",
      "|  _     (\\_/)     |                                          @()@||@@@@@' |\n",
      "| ( \\    (0.o) ----'                 _                         '@@||@@@'   |\n",
      "|  ) )   (> <)                     _(_)_            wWWWw   _     ||       |\n",
      "| ( (  .-'''''-.  A.-.A      @@@@ (_)@(_)       _   (___) _(_)_   ||       |\n",
      "|  \\ \\/         \\/ , , \\    @@()@@  (_)\\      _(_)_   Y  (_)@(_)  ||       |\n",
      "|   \\   \\        ;= t =/     @@@@      `|/   (_)@(_) \\|/   (_)\\   ||       |\n",
      "|    \\   |'''''-   ,--'       /        \\|     /(_)    |/      |   ||       |\n",
      "|     / //     | ||        \\ |          | / \\|/      \\|      \\|/  ||       |\n",
      "|    /_,))     |_'))       \\\\|//     \\\\\\|// \\|///   \\\\|//  \\\\\\|// ||       |\n",
      "|^^^^^^^^^^^^^^^^^^^^^^^^^^^^^^^^^^^^^^^^^^^^^^^^^^^^^^^^^^^^^^^^^^^^^^^^^^|\n",
      "'--------------------------------------------------------------------------'\n",
      "\n",
      "Version: 3.2.1\n",
      "############################################################\n",
      "############################################################\n",
      "\n",
      "This algorithm is designed to perform a genetic algorithm to obtain low energetic structures for a given cluster composition.\n",
      "\n",
      "This genetic algorithm will proceed with the following input parameters\n",
      "\n",
      "# This details the elemental and number of atom composition of cluster that the user would like to investigate\n",
      "cluster_makeup = {'Ne': 38}\n",
      "\n",
      "# This details the information used to perform a global optimisation upon a chosen surface\n",
      "surface_details = None\n",
      "\n",
      "# These are the main variables of the genetic algorithm that with changes could affect the results of the Genetic Algorithm.\n",
      "pop_size = 20\n",
      "generations = 4000\n",
      "no_offspring_per_generation = 16\n",
      "\n",
      "# These setting indicate how offspring should be made using the Mating and Mutation Proceedures\n",
      "creating_offspring_mode = Either_Mating_and_Mutation\n",
      "crossover_type = CAS_random\n",
      "mutation_types = [['move', 1.0]]\n",
      "mutation_types = 0.1\n",
      "\n",
      "# These are variables used by the algorithm to make and place clusters in.\n",
      "r_ij = 1.5 Angstroms (This is the maximum possible bond length between two atoms in the cluster)\n",
      "cell_length = 4.1 Angstroms\n",
      "vacuum_to_add_length = 10.0 Angstroms\n",
      "\n",
      "# The RunMinimisation.py algorithm is one set by the user. It contain the def Minimisation_Function\n",
      "# That is used for local optimisations. This can be written in whatever way the user wants to perform\n",
      "# the local optimisations. This is meant to be as free as possible.\n",
      "Minimisation_Function = <function Minimisation_Function at 0x7f01abba6400>\n",
      "Path of Minimisation_Function: /mnt/hgfs/GoogleDrive/PhDWork/Programs/OptimisationAlgorithms/GeneticAlgorithm/Organisms/Organisms_Jupyter_Examples/Notebooks/Basic_Example/RunMinimisation_LJ.py\n",
      "\n",
      "# This details the information about the memory operator used in this genetic algorithm.\n",
      "memory_operator = {'method': 'Off'}\n",
      "\n",
      "# This details the information about the predation operator used in this genetic algorithm.\n",
      "predation_operator = {'predation_information': {'Predation Operator': 'Energy', 'mode': 'comprehensive', 'type_of_comprehensive_scheme': 'energy', 'minimum_energy_diff': 0.01}, 'Predation_Switch': 'Energy', 'population': <Collection: Population> current size: 0; Clusters: [], 'print_details': False, 'mode': 'comprehensive', 'type_of_comprehensive_scheme': 'energy', 'minimum_energy_diff': 0.01, 'check_initial_population_imported': <function check_initial_population at 0x7f01abba6b70>, 'assess_for_violations_force_replacement_imported': <function assess_for_violations_force_replacement at 0x7f01abba68c8>, 'assess_for_violations_no_force_replacement_imported': <function assess_for_violations_no_force_replacement at 0x7f01abba69d8>}\n",
      "\n",
      "# This details the information about the fitness operator used in this genetic algorithm.\n",
      "fitness_operator = {'fitness_switch': 'Energy', 'fitness_information': {'Fitness Operator': 'Energy', 'fitness_function': {'function': 'exponential', 'alpha': 3.0}, 'Use Predation Information': False}, 'population': <Collection: Population> current size: 0; Clusters: [], 'print_details': False, 'previous_max_energy': -inf, 'previous_min_energy': inf, 'energy_fitness_function': <Organisms.GA.Fitness_Operators.Fitness_Function.Fitness_Function object at 0x7f01abbb72e8>}\n",
      "\n",
      "# This parameter will tell the Organisms program if an epoch is desired, and how the user would like to proceed.\n",
      "epoch_settings: {'path': '/mnt/hgfs/GoogleDrive/PhDWork/Programs/OptimisationAlgorithms/GeneticAlgorithm/Organisms/Organisms_Jupyter_Examples/Notebooks/Basic_Example', 'epoch_data_name': 'epoch_data', 'backup_epoch_data_name': 'epoch_data.backup', 'epoch_settings': {'epoch mode': 'same population', 'max repeat': 5}, 'epoch_mode': 'same population', 'max_number_of_times_non_changing_population': 5, 'epoch_function': <bound method Epoch.should_epoch_using_same_population_epoch of {...}>, 'perform_epoch_function': <bound method Epoch.perform_epoch_same_population of {...}>, 'first_epoch_to_change_fitness_function': False}\n",
      "\n",
      "# Variables required for the GA_Recording_System.py class/For recording the history as required of the genetic algorithm.\n",
      "ga_recording_system = {'ga_recording_information': {'ga_recording_scheme': 'Limit_energy_height', 'limit_number_of_clusters_recorded': 1, 'limit_energy_height_of_clusters_recorded': 1.0, 'exclude_recording_cluster_screened_by_diversity_scheme': False}, 'ga_recording_scheme': 'Limit_energy_height', 'ga_recording_system_name': 'Recorded_Data', 'path_to_write_to': '/mnt/hgfs/GoogleDrive/PhDWork/Programs/OptimisationAlgorithms/GeneticAlgorithm/Organisms/Organisms_Jupyter_Examples/Notebooks/Basic_Example/Recorded_Data', 'exclude_recording_cluster_screened_by_diversity_scheme': False, 'limit_number_of_clusters_recorded': 1, 'limit_size_of_database': None, 'show_GA_Recording_Database_check_percentage': False, 'limit_energy_height_of_clusters_recorded': 1.0, 'clusters_database': <Collection: GA_Recording_Database> current size: 0; Clusters: [], 'directory': '/mnt/hgfs/GoogleDrive/PhDWork/Programs/OptimisationAlgorithms/GeneticAlgorithm/Organisms/Organisms_Jupyter_Examples/Notebooks/Basic_Example/Recorded_Data', 'RC_Information_TXT_name': 'Recorded_Data_Information.txt', 'record_initial_population': False, 'saving_points_of_GA': []}\n",
      "\n",
      "# These are last techinical points that the algorithm is designed in mind\n",
      "force_replace_pop_clusters_with_offspring = True\n",
      "user_initialised_population_folder = None\n",
      "rounding_criteria = 10\n",
      "print_details = True\n",
      "no_of_cpus = 1\n",
      "finish_algorithm_if_found_cluster_energy = -173.93\n",
      "total_length_of_running_time: Indefinitely\n",
      "\n",
      "############################################################\n",
      "############################################################\n",
      "############################################################\n",
      "################################################################################################################\n",
      "################################################################################################################\n",
      "Initalising a Starting Population of Clusters if required to take pool up to a size of 20\n",
      "Pool size to begin = 0\n",
      "Checking to see if the user has any clusters in the folder None that the user would like to have inputted into the initalise population.\n",
      "################################################################################################################\n",
      "Will now population the next 20 with randomly generated clusters.\n",
      "-----------------------------\n",
      "Checking that the clusters in the population satisfies the Diversity Scheme\n",
      "Have finished populating the rest of the population with 0 randomly generated clusters.\n",
      "The population has been successfully initalised.\n",
      "################################################################################################################\n",
      "################################################################################################################\n",
      "Time elapsed: 00:00:21\n",
      "Date and Time: 2021-02-08 00:19:49.175897\n",
      "-----------------------------\n",
      "-----------------------------\n",
      "Starting Genetic Algorithm\n",
      "-----------------------------\n",
      "-----------------------------\n",
      " \n",
      "\n",
      "\n",
      "----------------------------------------------------------\n",
      "####################\n",
      "RUNNING GENERATION 1\n",
      "####################\n",
      "-----------------------\n",
      "Making Offspring\n",
      "-----------------------\n",
      "Time taken to make offspring: 3.5413551330566406 s.\n",
      "Details of created offsprings\n",
      "Time taken to add offspring to Offspring_Pool: 0.0005488395690917969 s.\n",
      "-----------------------\n",
      "-----------------------------\n",
      "****---------------------****\n",
      "Natural Selection for Generation 1\n",
      "--------------------------------------------------------------------------\n",
      "<Collection: Population> current size: 20\n",
      "Cluster: 1; Energy: -156.3360518653; Fitness: 0.049787068367863944\n",
      "Cluster: 2; Energy: -162.9805848114; Fitness: 0.24114961609106386\n",
      "Cluster: 3; Energy: -166.4335340164; Fitness: 0.5474535910073166\n",
      "Cluster: 4; Energy: -168.0460478539; Fitness: 0.802834977971117\n",
      "Cluster: 5; Energy: -168.9709479057; Fitness: 1.0\n",
      "Cluster: 6; Energy: -162.4542260392; Fitness: 0.21281860126055657\n",
      "Cluster: 7; Energy: -161.955928037; Fitness: 0.18907153960777587\n",
      "Cluster: 8; Energy: -165.5501904467; Fitness: 0.44387308330075986\n",
      "Cluster: 9; Energy: -163.8418295807; Fitness: 0.2958668396316604\n",
      "Cluster: 10; Energy: -162.2465857949; Fitness: 0.2025807463196461\n",
      "Cluster: 11; Energy: -161.0979733577; Fitness: 0.1542253305887909\n",
      "Cluster: 12; Energy: -167.6127366765; Fitness: 0.724342827587675\n",
      "Cluster: 13; Energy: -162.8835355553; Fitness: 0.23565630467199808\n",
      "Cluster: 14; Energy: -163.4246315919; Fitness: 0.2679635537348035\n",
      "Cluster: 15; Energy: -164.0544218776; Fitness: 0.31118478570233826\n",
      "Cluster: 16; Energy: -165.2124977812; Fitness: 0.40967236105996707\n",
      "Cluster: 17; Energy: -165.121421885; Fitness: 0.40090836070604063\n",
      "Cluster: 18; Energy: -165.0675591193; Fitness: 0.395813771188451\n",
      "Cluster: 19; Energy: -167.6659993567; Fitness: 0.7335614456786641\n",
      "Cluster: 20; Energy: -166.4492370796; Fitness: 0.5494985808439891\n",
      "--------------------------------------------------------------------------\n",
      "\n",
      "--------------------------------------------------------------------------\n",
      "<Collection: Offspring> current size: 14\n",
      "Cluster: 21; Energy: -167.216274299; Fitness: 0.6592677204600793\n",
      "Cluster: 22; Energy: -159.7210650501; Fitness: 0.1112171780126149\n",
      "Cluster: 23; Energy: -164.5975126795; Fitness: 0.3540142280980349\n",
      "Cluster: 24; Energy: -167.5134607328; Fitness: 0.7074683917107275\n",
      "Cluster: 25; Energy: -167.7226576105; Fitness: 0.7434965808192865\n",
      "Cluster: 26; Energy: -166.1042152241; Fitness: 0.5062775381519822\n",
      "Cluster: 28; Energy: -168.3874413095; Fitness: 0.8706228239514627\n",
      "Cluster: 30; Energy: -168.0040206784; Fitness: 0.7948634606026895\n",
      "Cluster: 31; Energy: -166.8998336798; Fitness: 0.6115488198779405\n",
      "Cluster: 32; Energy: -167.5548717999; Fitness: 0.7144589185030739\n",
      "Cluster: 33; Energy: -168.7734551701; Fitness: 0.9541902435835287\n",
      "Cluster: 34; Energy: -167.3582037694; Fitness: 0.6818632361633423\n",
      "Cluster: 35; Energy: -167.4973309781; Fitness: 0.7047641032297371\n",
      "Cluster: 36; Energy: -164.307642213; Fitness: 0.3304683672364896\n",
      "--------------------------------------------------------------------------\n",
      "\n",
      "Offspring that replace clusters in population due to fitness.\n",
      "Replacing Cluster 1(fitness = 0.049) with Offspring 33(fitness = 0.954)\n"
     ]
    },
    {
     "ename": "KeyboardInterrupt",
     "evalue": "",
     "output_type": "error",
     "traceback": [
      "\u001b[0;31m---------------------------------------------------------------------------\u001b[0m",
      "\u001b[0;31mKeyboardInterrupt\u001b[0m                         Traceback (most recent call last)",
      "\u001b[0;32m<ipython-input-15-b206f3946771>\u001b[0m in \u001b[0;36m<module>\u001b[0;34m\u001b[0m\n\u001b[1;32m     24\u001b[0m     \u001b[0mno_of_cpus\u001b[0m\u001b[0;34m=\u001b[0m\u001b[0mno_of_cpus\u001b[0m\u001b[0;34m,\u001b[0m\u001b[0;34m\u001b[0m\u001b[0;34m\u001b[0m\u001b[0m\n\u001b[1;32m     25\u001b[0m     \u001b[0mfinish_algorithm_if_found_cluster_energy\u001b[0m\u001b[0;34m=\u001b[0m\u001b[0mfinish_algorithm_if_found_cluster_energy\u001b[0m\u001b[0;34m,\u001b[0m\u001b[0;34m\u001b[0m\u001b[0;34m\u001b[0m\u001b[0m\n\u001b[0;32m---> 26\u001b[0;31m     total_length_of_running_time=total_length_of_running_time)\n\u001b[0m",
      "\u001b[0;32m~/Desktop/Organisms/Organisms_v3.2.1/Organisms/GA/GA_Program.py\u001b[0m in \u001b[0;36m__init__\u001b[0;34m(self, cluster_makeup, pop_size, generations, no_offspring_per_generation, creating_offspring_mode, crossover_type, mutation_types, chance_of_mutation, r_ij, vacuum_to_add_length, Minimisation_Function, surface_details, epoch_settings, cell_length, memory_operator_information, predation_information, fitness_information, ga_recording_information, force_replace_pop_clusters_with_offspring, user_initialised_population_folder, rounding_criteria, print_details, no_of_cpus, finish_algorithm_if_found_cluster_energy, total_length_of_running_time)\u001b[0m\n\u001b[1;32m     88\u001b[0m                 \u001b[0mGA_Initiate\u001b[0m\u001b[0;34m(\u001b[0m\u001b[0mself\u001b[0m\u001b[0;34m)\u001b[0m\u001b[0;34m\u001b[0m\u001b[0;34m\u001b[0m\u001b[0m\n\u001b[1;32m     89\u001b[0m                 \u001b[0;31m# Run the main component of the GA\u001b[0m\u001b[0;34m\u001b[0m\u001b[0;34m\u001b[0m\u001b[0;34m\u001b[0m\u001b[0m\n\u001b[0;32m---> 90\u001b[0;31m                 \u001b[0mself\u001b[0m\u001b[0;34m.\u001b[0m\u001b[0mrun_GA\u001b[0m\u001b[0;34m(\u001b[0m\u001b[0;34m)\u001b[0m\u001b[0;34m\u001b[0m\u001b[0;34m\u001b[0m\u001b[0m\n\u001b[0m\u001b[1;32m     91\u001b[0m                 \u001b[0;31m##########################################################################################################\u001b[0m\u001b[0;34m\u001b[0m\u001b[0;34m\u001b[0m\u001b[0;34m\u001b[0m\u001b[0m\n\u001b[1;32m     92\u001b[0m                 \u001b[0;31m##########################################################################################################\u001b[0m\u001b[0;34m\u001b[0m\u001b[0;34m\u001b[0m\u001b[0;34m\u001b[0m\u001b[0m\n",
      "\u001b[0;32m~/Desktop/Organisms/Organisms_v3.2.1/Organisms/GA/GA_Program.py\u001b[0m in \u001b[0;36mrun_GA\u001b[0;34m(self)\u001b[0m\n\u001b[1;32m    181\u001b[0m                         \u001b[0mnatural_selection_timer_start\u001b[0m \u001b[0;34m=\u001b[0m \u001b[0mtime\u001b[0m\u001b[0;34m(\u001b[0m\u001b[0;34m)\u001b[0m\u001b[0;34m\u001b[0m\u001b[0;34m\u001b[0m\u001b[0m\n\u001b[1;32m    182\u001b[0m                         \u001b[0;31m# Perform the natural selection proceedure.\u001b[0m\u001b[0;34m\u001b[0m\u001b[0;34m\u001b[0m\u001b[0;34m\u001b[0m\u001b[0m\n\u001b[0;32m--> 183\u001b[0;31m                         \u001b[0mclusters_removed_from_the_population\u001b[0m \u001b[0;34m=\u001b[0m \u001b[0mself\u001b[0m\u001b[0;34m.\u001b[0m\u001b[0mnatural_selection\u001b[0m\u001b[0;34m(\u001b[0m\u001b[0mself\u001b[0m\u001b[0;34m.\u001b[0m\u001b[0moffspring_pool\u001b[0m\u001b[0;34m,\u001b[0m\u001b[0mgeneration_number\u001b[0m\u001b[0;34m)\u001b[0m\u001b[0;34m\u001b[0m\u001b[0;34m\u001b[0m\u001b[0m\n\u001b[0m\u001b[1;32m    184\u001b[0m                         \u001b[0;31m# clear the offspring_pool\u001b[0m\u001b[0;34m\u001b[0m\u001b[0;34m\u001b[0m\u001b[0;34m\u001b[0m\u001b[0m\n\u001b[1;32m    185\u001b[0m                         \u001b[0mcleaned_offspring_names\u001b[0m \u001b[0;34m=\u001b[0m \u001b[0mself\u001b[0m\u001b[0;34m.\u001b[0m\u001b[0moffspring_pool\u001b[0m\u001b[0;34m.\u001b[0m\u001b[0mclean\u001b[0m\u001b[0;34m(\u001b[0m\u001b[0;34m)\u001b[0m\u001b[0;34m\u001b[0m\u001b[0;34m\u001b[0m\u001b[0m\n",
      "\u001b[0;32m~/Desktop/Organisms/Organisms_v3.2.1/Organisms/GA/GA_Program.py\u001b[0m in \u001b[0;36mnatural_selection\u001b[0;34m(self, offspring_pool, generation_number)\u001b[0m\n\u001b[1;32m    409\u001b[0m                                 \u001b[0;32mif\u001b[0m \u001b[0mself\u001b[0m\u001b[0;34m.\u001b[0m\u001b[0mprint_details\u001b[0m\u001b[0;34m:\u001b[0m\u001b[0;34m\u001b[0m\u001b[0;34m\u001b[0m\u001b[0m\n\u001b[1;32m    410\u001b[0m                                         \u001b[0mprint\u001b[0m\u001b[0;34m(\u001b[0m\u001b[0;34m'Replacing Cluster '\u001b[0m\u001b[0;34m+\u001b[0m\u001b[0mstr\u001b[0m\u001b[0;34m(\u001b[0m\u001b[0mself\u001b[0m\u001b[0;34m.\u001b[0m\u001b[0mpopulation\u001b[0m\u001b[0;34m[\u001b[0m\u001b[0mindex_rc\u001b[0m\u001b[0;34m]\u001b[0m\u001b[0;34m.\u001b[0m\u001b[0mname\u001b[0m\u001b[0;34m)\u001b[0m\u001b[0;34m+\u001b[0m\u001b[0;34m'(fitness = '\u001b[0m\u001b[0;34m+\u001b[0m\u001b[0mstr\u001b[0m\u001b[0;34m(\u001b[0m\u001b[0mfloor_float\u001b[0m\u001b[0;34m(\u001b[0m\u001b[0mself\u001b[0m\u001b[0;34m.\u001b[0m\u001b[0mpopulation\u001b[0m\u001b[0;34m[\u001b[0m\u001b[0mindex_rc\u001b[0m\u001b[0;34m]\u001b[0m\u001b[0;34m.\u001b[0m\u001b[0mfitness\u001b[0m\u001b[0;34m,\u001b[0m\u001b[0;36m3\u001b[0m\u001b[0;34m)\u001b[0m\u001b[0;34m)\u001b[0m\u001b[0;34m+\u001b[0m\u001b[0;34m') with Offspring '\u001b[0m\u001b[0;34m+\u001b[0m\u001b[0mstr\u001b[0m\u001b[0;34m(\u001b[0m\u001b[0moffspring\u001b[0m\u001b[0;34m.\u001b[0m\u001b[0mname\u001b[0m\u001b[0;34m)\u001b[0m\u001b[0;34m+\u001b[0m\u001b[0;34m'(fitness = '\u001b[0m\u001b[0;34m+\u001b[0m\u001b[0mstr\u001b[0m\u001b[0;34m(\u001b[0m\u001b[0mfloor_float\u001b[0m\u001b[0;34m(\u001b[0m\u001b[0moffspring\u001b[0m\u001b[0;34m.\u001b[0m\u001b[0mfitness\u001b[0m\u001b[0;34m,\u001b[0m\u001b[0;36m3\u001b[0m\u001b[0;34m)\u001b[0m\u001b[0;34m)\u001b[0m\u001b[0;34m+\u001b[0m\u001b[0;34m')'\u001b[0m\u001b[0;34m)\u001b[0m\u001b[0;34m\u001b[0m\u001b[0;34m\u001b[0m\u001b[0m\n\u001b[0;32m--> 411\u001b[0;31m                                 \u001b[0mself\u001b[0m\u001b[0;34m.\u001b[0m\u001b[0mpopulation\u001b[0m\u001b[0;34m.\u001b[0m\u001b[0mreplace\u001b[0m\u001b[0;34m(\u001b[0m\u001b[0mindex_rc\u001b[0m\u001b[0;34m,\u001b[0m\u001b[0moffspring\u001b[0m\u001b[0;34m)\u001b[0m\u001b[0;34m\u001b[0m\u001b[0;34m\u001b[0m\u001b[0m\n\u001b[0m\u001b[1;32m    412\u001b[0m                         \u001b[0mindex_fp\u001b[0m \u001b[0;34m+=\u001b[0m \u001b[0;36m1\u001b[0m\u001b[0;34m\u001b[0m\u001b[0;34m\u001b[0m\u001b[0m\n\u001b[1;32m    413\u001b[0m                 \u001b[0;32mif\u001b[0m \u001b[0mself\u001b[0m\u001b[0;34m.\u001b[0m\u001b[0mprint_details\u001b[0m\u001b[0;34m:\u001b[0m\u001b[0;34m\u001b[0m\u001b[0;34m\u001b[0m\u001b[0m\n",
      "\u001b[0;32m~/Desktop/Organisms/Organisms_v3.2.1/Organisms/GA/Collection.py\u001b[0m in \u001b[0;36mreplace\u001b[0;34m(self, index, new_cluster)\u001b[0m\n\u001b[1;32m    303\u001b[0m \t\t\"\"\"\n\u001b[1;32m    304\u001b[0m                 \u001b[0mself\u001b[0m\u001b[0;34m.\u001b[0m\u001b[0mremove\u001b[0m\u001b[0;34m(\u001b[0m\u001b[0mindex\u001b[0m\u001b[0;34m)\u001b[0m\u001b[0;34m\u001b[0m\u001b[0;34m\u001b[0m\u001b[0m\n\u001b[0;32m--> 305\u001b[0;31m                 \u001b[0mself\u001b[0m\u001b[0;34m.\u001b[0m\u001b[0madd\u001b[0m\u001b[0;34m(\u001b[0m\u001b[0mindex\u001b[0m\u001b[0;34m,\u001b[0m \u001b[0mnew_cluster\u001b[0m\u001b[0;34m)\u001b[0m\u001b[0;34m\u001b[0m\u001b[0;34m\u001b[0m\u001b[0m\n\u001b[0m\u001b[1;32m    306\u001b[0m \u001b[0;34m\u001b[0m\u001b[0m\n\u001b[1;32m    307\u001b[0m         \u001b[0;32mdef\u001b[0m \u001b[0mpop\u001b[0m\u001b[0;34m(\u001b[0m\u001b[0mself\u001b[0m\u001b[0;34m,\u001b[0m\u001b[0mith\u001b[0m\u001b[0;34m)\u001b[0m\u001b[0;34m:\u001b[0m\u001b[0;34m\u001b[0m\u001b[0;34m\u001b[0m\u001b[0m\n",
      "\u001b[0;32m~/Desktop/Organisms/Organisms_v3.2.1/Organisms/GA/Collection.py\u001b[0m in \u001b[0;36madd\u001b[0;34m(self, index, cluster)\u001b[0m\n\u001b[1;32m    276\u001b[0m                 \u001b[0;31m# adds the cluster in the collection to disk\u001b[0m\u001b[0;34m\u001b[0m\u001b[0;34m\u001b[0m\u001b[0;34m\u001b[0m\u001b[0m\n\u001b[1;32m    277\u001b[0m                 \u001b[0;32mif\u001b[0m \u001b[0mself\u001b[0m\u001b[0;34m.\u001b[0m\u001b[0mhave_database\u001b[0m\u001b[0;34m:\u001b[0m\u001b[0;34m\u001b[0m\u001b[0;34m\u001b[0m\u001b[0m\n\u001b[0;32m--> 278\u001b[0;31m                         \u001b[0mself\u001b[0m\u001b[0;34m.\u001b[0m\u001b[0madd_to_database\u001b[0m\u001b[0;34m(\u001b[0m\u001b[0mcluster\u001b[0m\u001b[0;34m)\u001b[0m\u001b[0;34m\u001b[0m\u001b[0;34m\u001b[0m\u001b[0m\n\u001b[0m\u001b[1;32m    279\u001b[0m \u001b[0;34m\u001b[0m\u001b[0m\n\u001b[1;32m    280\u001b[0m         \u001b[0;32mdef\u001b[0m \u001b[0mremove\u001b[0m\u001b[0;34m(\u001b[0m\u001b[0mself\u001b[0m\u001b[0;34m,\u001b[0m \u001b[0mindex\u001b[0m\u001b[0;34m)\u001b[0m\u001b[0;34m:\u001b[0m\u001b[0;34m\u001b[0m\u001b[0;34m\u001b[0m\u001b[0m\n",
      "\u001b[0;32m~/Desktop/Organisms/Organisms_v3.2.1/Organisms/GA/Collection.py\u001b[0m in \u001b[0;36madd_to_database\u001b[0;34m(self, cluster, center)\u001b[0m\n\u001b[1;32m    399\u001b[0m                                 \u001b[0;31m#middle_of_cell = cell_lengths/2.0\u001b[0m\u001b[0;34m\u001b[0m\u001b[0;34m\u001b[0m\u001b[0;34m\u001b[0m\u001b[0m\n\u001b[1;32m    400\u001b[0m                                 \u001b[0mcluster_to_database\u001b[0m\u001b[0;34m.\u001b[0m\u001b[0mcenter\u001b[0m\u001b[0;34m(\u001b[0m\u001b[0;34m)\u001b[0m \u001b[0;31m#about=middle_of_cell)\u001b[0m\u001b[0;34m\u001b[0m\u001b[0;34m\u001b[0m\u001b[0m\n\u001b[0;32m--> 401\u001b[0;31m                         \u001b[0mdatabase\u001b[0m\u001b[0;34m.\u001b[0m\u001b[0mwrite\u001b[0m\u001b[0;34m(\u001b[0m\u001b[0mcluster_to_database\u001b[0m\u001b[0;34m,\u001b[0m\u001b[0mname\u001b[0m\u001b[0;34m=\u001b[0m\u001b[0mcluster\u001b[0m\u001b[0;34m.\u001b[0m\u001b[0mname\u001b[0m\u001b[0;34m,\u001b[0m\u001b[0mgen_made\u001b[0m\u001b[0;34m=\u001b[0m\u001b[0mcluster\u001b[0m\u001b[0;34m.\u001b[0m\u001b[0mgen_made\u001b[0m\u001b[0;34m,\u001b[0m\u001b[0mcluster_energy\u001b[0m\u001b[0;34m=\u001b[0m\u001b[0mcluster\u001b[0m\u001b[0;34m.\u001b[0m\u001b[0menergy\u001b[0m\u001b[0;34m,\u001b[0m\u001b[0mever_in_population\u001b[0m\u001b[0;34m=\u001b[0m\u001b[0mcluster\u001b[0m\u001b[0;34m.\u001b[0m\u001b[0mever_in_population\u001b[0m\u001b[0;34m,\u001b[0m\u001b[0mexcluded_because_violates_predation_operator\u001b[0m\u001b[0;34m=\u001b[0m\u001b[0mcluster\u001b[0m\u001b[0;34m.\u001b[0m\u001b[0mexcluded_because_violates_predation_operator\u001b[0m\u001b[0;34m,\u001b[0m\u001b[0minitial_population\u001b[0m\u001b[0;34m=\u001b[0m\u001b[0mcluster\u001b[0m\u001b[0;34m.\u001b[0m\u001b[0minitial_population\u001b[0m\u001b[0;34m,\u001b[0m\u001b[0mremoved_by_memory_operator\u001b[0m\u001b[0;34m=\u001b[0m\u001b[0mcluster\u001b[0m\u001b[0;34m.\u001b[0m\u001b[0mremoved_by_memory_operator\u001b[0m\u001b[0;34m)\u001b[0m\u001b[0;34m\u001b[0m\u001b[0;34m\u001b[0m\u001b[0m\n\u001b[0m\u001b[1;32m    402\u001b[0m \u001b[0;34m\u001b[0m\u001b[0m\n\u001b[1;32m    403\u001b[0m         \u001b[0;32mdef\u001b[0m \u001b[0mremove_to_database\u001b[0m\u001b[0;34m(\u001b[0m\u001b[0mself\u001b[0m\u001b[0;34m,\u001b[0m\u001b[0mcluster\u001b[0m\u001b[0;34m)\u001b[0m\u001b[0;34m:\u001b[0m\u001b[0;34m\u001b[0m\u001b[0;34m\u001b[0m\u001b[0m\n",
      "\u001b[0;32m~/.local/lib/python3.6/site-packages/ase/parallel.py\u001b[0m in \u001b[0;36mnew_func\u001b[0;34m(*args, **kwargs)\u001b[0m\n\u001b[1;32m    240\u001b[0m             not kwargs.pop('parallel', True)):\n\u001b[1;32m    241\u001b[0m             \u001b[0;31m# Disable:\u001b[0m\u001b[0;34m\u001b[0m\u001b[0;34m\u001b[0m\u001b[0;34m\u001b[0m\u001b[0m\n\u001b[0;32m--> 242\u001b[0;31m             \u001b[0;32mreturn\u001b[0m \u001b[0mfunc\u001b[0m\u001b[0;34m(\u001b[0m\u001b[0;34m*\u001b[0m\u001b[0margs\u001b[0m\u001b[0;34m,\u001b[0m \u001b[0;34m**\u001b[0m\u001b[0mkwargs\u001b[0m\u001b[0;34m)\u001b[0m\u001b[0;34m\u001b[0m\u001b[0;34m\u001b[0m\u001b[0m\n\u001b[0m\u001b[1;32m    243\u001b[0m \u001b[0;34m\u001b[0m\u001b[0m\n\u001b[1;32m    244\u001b[0m         \u001b[0mex\u001b[0m \u001b[0;34m=\u001b[0m \u001b[0;32mNone\u001b[0m\u001b[0;34m\u001b[0m\u001b[0;34m\u001b[0m\u001b[0m\n",
      "\u001b[0;32m~/.local/lib/python3.6/site-packages/ase/db/core.py\u001b[0m in \u001b[0;36mnew_method\u001b[0;34m(self, *args, **kwargs)\u001b[0m\n\u001b[1;32m    201\u001b[0m         \u001b[0;32melse\u001b[0m\u001b[0;34m:\u001b[0m\u001b[0;34m\u001b[0m\u001b[0;34m\u001b[0m\u001b[0m\n\u001b[1;32m    202\u001b[0m             \u001b[0;32mwith\u001b[0m \u001b[0mself\u001b[0m\u001b[0;34m.\u001b[0m\u001b[0mlock\u001b[0m\u001b[0;34m:\u001b[0m\u001b[0;34m\u001b[0m\u001b[0;34m\u001b[0m\u001b[0m\n\u001b[0;32m--> 203\u001b[0;31m                 \u001b[0;32mreturn\u001b[0m \u001b[0mmethod\u001b[0m\u001b[0;34m(\u001b[0m\u001b[0mself\u001b[0m\u001b[0;34m,\u001b[0m \u001b[0;34m*\u001b[0m\u001b[0margs\u001b[0m\u001b[0;34m,\u001b[0m \u001b[0;34m**\u001b[0m\u001b[0mkwargs\u001b[0m\u001b[0;34m)\u001b[0m\u001b[0;34m\u001b[0m\u001b[0;34m\u001b[0m\u001b[0m\n\u001b[0m\u001b[1;32m    204\u001b[0m     \u001b[0;32mreturn\u001b[0m \u001b[0mnew_method\u001b[0m\u001b[0;34m\u001b[0m\u001b[0;34m\u001b[0m\u001b[0m\n\u001b[1;32m    205\u001b[0m \u001b[0;34m\u001b[0m\u001b[0m\n",
      "\u001b[0;32m~/.local/lib/python3.6/site-packages/ase/db/core.py\u001b[0m in \u001b[0;36mwrite\u001b[0;34m(self, atoms, key_value_pairs, data, id, **kwargs)\u001b[0m\n\u001b[1;32m    347\u001b[0m         \u001b[0mkvp\u001b[0m\u001b[0;34m.\u001b[0m\u001b[0mupdate\u001b[0m\u001b[0;34m(\u001b[0m\u001b[0mkwargs\u001b[0m\u001b[0;34m)\u001b[0m\u001b[0;34m\u001b[0m\u001b[0;34m\u001b[0m\u001b[0m\n\u001b[1;32m    348\u001b[0m \u001b[0;34m\u001b[0m\u001b[0m\n\u001b[0;32m--> 349\u001b[0;31m         \u001b[0mid\u001b[0m \u001b[0;34m=\u001b[0m \u001b[0mself\u001b[0m\u001b[0;34m.\u001b[0m\u001b[0m_write\u001b[0m\u001b[0;34m(\u001b[0m\u001b[0matoms\u001b[0m\u001b[0;34m,\u001b[0m \u001b[0mkvp\u001b[0m\u001b[0;34m,\u001b[0m \u001b[0mdata\u001b[0m\u001b[0;34m,\u001b[0m \u001b[0mid\u001b[0m\u001b[0;34m)\u001b[0m\u001b[0;34m\u001b[0m\u001b[0;34m\u001b[0m\u001b[0m\n\u001b[0m\u001b[1;32m    350\u001b[0m         \u001b[0;32mreturn\u001b[0m \u001b[0mid\u001b[0m\u001b[0;34m\u001b[0m\u001b[0;34m\u001b[0m\u001b[0m\n\u001b[1;32m    351\u001b[0m \u001b[0;34m\u001b[0m\u001b[0m\n",
      "\u001b[0;32m~/.local/lib/python3.6/site-packages/ase/db/sqlite.py\u001b[0m in \u001b[0;36m_write\u001b[0;34m(self, atoms, key_value_pairs, data, id)\u001b[0m\n\u001b[1;32m    338\u001b[0m                 \u001b[0mq\u001b[0m \u001b[0;34m=\u001b[0m \u001b[0mself\u001b[0m\u001b[0;34m.\u001b[0m\u001b[0mdefault\u001b[0m \u001b[0;34m+\u001b[0m \u001b[0;34m', '\u001b[0m \u001b[0;34m+\u001b[0m \u001b[0;34m', '\u001b[0m\u001b[0;34m.\u001b[0m\u001b[0mjoin\u001b[0m\u001b[0;34m(\u001b[0m\u001b[0;34m'?'\u001b[0m \u001b[0;34m*\u001b[0m \u001b[0mlen\u001b[0m\u001b[0;34m(\u001b[0m\u001b[0mvalues\u001b[0m\u001b[0;34m)\u001b[0m\u001b[0;34m)\u001b[0m\u001b[0;34m\u001b[0m\u001b[0;34m\u001b[0m\u001b[0m\n\u001b[1;32m    339\u001b[0m                 cur.execute('INSERT INTO systems VALUES ({})'.format(q),\n\u001b[0;32m--> 340\u001b[0;31m                             values)\n\u001b[0m\u001b[1;32m    341\u001b[0m                 \u001b[0mid\u001b[0m \u001b[0;34m=\u001b[0m \u001b[0mself\u001b[0m\u001b[0;34m.\u001b[0m\u001b[0mget_last_id\u001b[0m\u001b[0;34m(\u001b[0m\u001b[0mcur\u001b[0m\u001b[0;34m)\u001b[0m\u001b[0;34m\u001b[0m\u001b[0;34m\u001b[0m\u001b[0m\n\u001b[1;32m    342\u001b[0m             \u001b[0;32melse\u001b[0m\u001b[0;34m:\u001b[0m\u001b[0;34m\u001b[0m\u001b[0;34m\u001b[0m\u001b[0m\n",
      "\u001b[0;31mKeyboardInterrupt\u001b[0m: "
     ]
    }
   ],
   "source": [
    "# This will execute the genetic algorithm program\n",
    "GA_Program(cluster_makeup=cluster_makeup,\n",
    "    pop_size=pop_size,\n",
    "    generations=generations,\n",
    "    no_offspring_per_generation=no_offspring_per_generation,\n",
    "    creating_offspring_mode=creating_offspring_mode,\n",
    "    crossover_type=crossover_type,\n",
    "    mutation_types=mutation_types,\n",
    "    chance_of_mutation=chance_of_mutation,\n",
    "    r_ij=r_ij,\n",
    "    vacuum_to_add_length=vacuum_to_add_length,\n",
    "    Minimisation_Function=Minimisation_Function,\n",
    "    surface_details=surface_details,\n",
    "    epoch_settings=epoch_settings,\n",
    "    cell_length=cell_length,\n",
    "    memory_operator_information=memory_operator_information,\n",
    "    predation_information=predation_information,\n",
    "    fitness_information=fitness_information,\n",
    "    ga_recording_information=ga_recording_information,\n",
    "    force_replace_pop_clusters_with_offspring=force_replace_pop_clusters_with_offspring,\n",
    "    user_initialised_population_folder=user_initialised_population_folder,\n",
    "    rounding_criteria=rounding_criteria,\n",
    "    print_details=print_details,\n",
    "    no_of_cpus=no_of_cpus,\n",
    "    finish_algorithm_if_found_cluster_energy=finish_algorithm_if_found_cluster_energy,\n",
    "    total_length_of_running_time=total_length_of_running_time)\n"
   ]
  },
  {
   "cell_type": "markdown",
   "id": "measured-cleaner",
   "metadata": {},
   "source": [
    "[Back To Table of Contents](../Organisms_Jupyter_Example.ipynb)"
   ]
  },
  {
   "cell_type": "markdown",
   "id": "architectural-school",
   "metadata": {},
   "source": [
    "## Post-processing data from your global optimisation"
   ]
  },
  {
   "cell_type": "markdown",
   "id": "interpreted-individual",
   "metadata": {},
   "source": [
    "Once the genetic algorithm is finished, we generally would like to get data from it, such as the global minimum. We can get this from the Database that is recorded based on our settings for the ``ga_recording_information`` variable. The following code is a simple way of extracting the lowest energy cluster that was obtained during the genetic algorithm. This is not to be included in the *Run.py* file, this is just so you can see the fruits of your global optimisation work!"
   ]
  },
  {
   "cell_type": "code",
   "execution_count": null,
   "id": "aboriginal-centre",
   "metadata": {},
   "outputs": [],
   "source": [
    "from ase.io import read\n",
    "database_path = 'Recorded_Data/GA_Recording_Database.db'\n",
    "lowest_energy_cluster_found = read(database_path)\n",
    "if isinstance(lowest_energy_cluster_found, list):\n",
    "    lowest_energy_cluster_found = lowest_energy_cluster_found[0]\n",
    "lowest_energy_cluster_found.center(about=0.,vacuum=0.0)\n",
    "from ase.visualize import view\n",
    "view(lowest_energy_cluster_found,viewer='x3d')"
   ]
  },
  {
   "cell_type": "markdown",
   "id": "lined-termination",
   "metadata": {},
   "source": [
    "[Back To Table of Contents](../Organisms_Jupyter_Example.ipynb)"
   ]
  }
 ],
 "metadata": {
  "kernelspec": {
   "display_name": "Python 3",
   "language": "python",
   "name": "python3"
  },
  "language_info": {
   "codemirror_mode": {
    "name": "ipython",
    "version": 3
   },
   "file_extension": ".py",
   "mimetype": "text/x-python",
   "name": "python",
   "nbconvert_exporter": "python",
   "pygments_lexer": "ipython3",
   "version": "3.6.9"
  }
 },
 "nbformat": 4,
 "nbformat_minor": 5
}
