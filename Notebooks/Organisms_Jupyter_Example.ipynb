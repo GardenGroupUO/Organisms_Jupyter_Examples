{
 "cells": [
  {
   "cell_type": "markdown",
   "id": "little-panama",
   "metadata": {},
   "source": [
    "[Basic Example](./Basic_Example/Basic_Example_LJ38.ipynb)\n",
    "\n",
    "[Example of Organisms Using Different_Predation_Operators](./Using_Different_Predation_Operators/Different_Predation_Operators_Example.ipynb)\n",
    "\n",
    "[Example of Organisms Using_the_Structure + Energy Fitness Operator](./Using_the_SE_Fitness_Operator/Using_the_SE_Fitness_Operator_LJ38.ipynb)\n",
    "\n",
    "[Example of Optimising Cu<sub>37</sub>](./Example_of_Cu37/Example_of_Cu37.ipynb)\n",
    "\n",
    "[Example of Optimising Au<sub>38</sub>](./Example_of_Au38/Example_of_Au38.ipynb)"
   ]
  },
  {
   "cell_type": "code",
   "execution_count": null,
   "id": "international-shore",
   "metadata": {},
   "outputs": [],
   "source": []
  }
 ],
 "metadata": {
  "kernelspec": {
   "display_name": "Python 3",
   "language": "python",
   "name": "python3"
  },
  "language_info": {
   "codemirror_mode": {
    "name": "ipython",
    "version": 3
   },
   "file_extension": ".py",
   "mimetype": "text/x-python",
   "name": "python",
   "nbconvert_exporter": "python",
   "pygments_lexer": "ipython3",
   "version": "3.6.9"
  }
 },
 "nbformat": 4,
 "nbformat_minor": 5
}
