{
 "cells": [
  {
   "cell_type": "markdown",
   "id": "innovative-adult",
   "metadata": {},
   "source": [
    "# Example of Scripts to be Run in Organisms"
   ]
  },
  {
   "cell_type": "markdown",
   "id": "early-chile",
   "metadata": {},
   "source": [
    "![PyPI - Python Version](https://img.shields.io/pypi/pyversions/Organisms)\n",
    "![PyPI](https://img.shields.io/pypi/v/Organisms)\n",
    "![Conda](https://img.shields.io/conda/v/gardengroupuo/organisms)\n",
    "[![Documentation Status](https://readthedocs.org/projects/organisms/badge/?version=latest)](https://organisms.readthedocs.io/en/latest/)\n",
    "![GitHub](https://img.shields.io/github/license/GardenGroupUO/Organisms_Jupyter_Examples)"
   ]
  },
  {
   "cell_type": "markdown",
   "id": "employed-brazilian",
   "metadata": {},
   "source": [
    "This Jupyter notebook contains a number of python scripts with annotations that can be used to learn about how to run a genetic algorithm of a cluster with Organisms.\n",
    "\n",
    "Organisms (the Otago Research Genetic Algorithm for Nanoclusters, Including Structural Methods and Similarity program) is a genetic algorithm program designed in python to global optimise a nanocluster (also known as a cluster or nanoparticle). This program uses the genetic algorithm to explore a cluster's potential energy surface in search of the global minimum. \n",
    "\n",
    "Organisms contains many different predation, fitness, and epoch methods that you can use to efficiently locate the global minimum of the cluster you are interested in. See https://organisms.readthedocs.io/en/latest/ to find out more about this program. The Github repository for the Organisms program can be found at: https://github.com/GardenGroupUO/Organisms"
   ]
  },
  {
   "cell_type": "markdown",
   "id": "structured-gospel",
   "metadata": {},
   "source": [
    "Click on any of the following links to open up a new tab with a new Jupyter notebook that gives an example of using the Organisms program. "
   ]
  },
  {
   "cell_type": "markdown",
   "id": "reserved-extent",
   "metadata": {},
   "source": [
    "The following are general examples of how the Organisms program works, based on optimising a 38 atom Lennard-Jones (LJ<sub>38</sub>) nanocluster"
   ]
  },
  {
   "cell_type": "markdown",
   "id": "personalized-trick",
   "metadata": {},
   "source": [
    "[Basic Example](./Basic_Example/Basic_Example_LJ38.ipynb)\n",
    "\n",
    "[Example of Organisms Using Different Predation Operators](./Using_Different_Predation_Operators/Different_Predation_Operators_Example.ipynb)\n",
    "\n",
    "[Example of Organisms Using the Structure + Energy Fitness Operator](./Using_the_SE_Fitness_Operator/Using_the_SE_Fitness_Operator_LJ38.ipynb)"
   ]
  },
  {
   "cell_type": "markdown",
   "id": "occupied-nepal",
   "metadata": {},
   "source": [
    "The following are examples of how the Organisms program works with Metallic nanoclusters, using the RGL empirical potential."
   ]
  },
  {
   "cell_type": "markdown",
   "id": "composite-number",
   "metadata": {},
   "source": [
    "[Example of Optimising Cu<sub>37</sub>](./Example_of_Cu37/Example_of_Cu37.ipynb)\n",
    "\n",
    "[Example of Optimising Au<sub>38</sub>](./Example_of_Au38/Example_of_Au38.ipynb)"
   ]
  }
 ],
 "metadata": {
  "kernelspec": {
   "display_name": "Python 3",
   "language": "python",
   "name": "python3"
  },
  "language_info": {
   "codemirror_mode": {
    "name": "ipython",
    "version": 3
   },
   "file_extension": ".py",
   "mimetype": "text/x-python",
   "name": "python",
   "nbconvert_exporter": "python",
   "pygments_lexer": "ipython3",
   "version": "3.9.1"
  }
 },
 "nbformat": 4,
 "nbformat_minor": 5
}
